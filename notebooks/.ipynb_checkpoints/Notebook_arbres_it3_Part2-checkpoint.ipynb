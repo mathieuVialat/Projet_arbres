{
 "cells": [
  {
   "cell_type": "markdown",
   "id": "78609fb1",
   "metadata": {},
   "source": [
    "## Itération 2 arbres avec Pandas"
   ]
  },
  {
   "cell_type": "code",
   "execution_count": 1,
   "id": "f894792f",
   "metadata": {},
   "outputs": [
    {
     "data": {
      "text/html": [
       "<div>\n",
       "<style scoped>\n",
       "    .dataframe tbody tr th:only-of-type {\n",
       "        vertical-align: middle;\n",
       "    }\n",
       "\n",
       "    .dataframe tbody tr th {\n",
       "        vertical-align: top;\n",
       "    }\n",
       "\n",
       "    .dataframe thead th {\n",
       "        text-align: right;\n",
       "    }\n",
       "</style>\n",
       "<table border=\"1\" class=\"dataframe\">\n",
       "  <thead>\n",
       "    <tr style=\"text-align: right;\">\n",
       "      <th></th>\n",
       "      <th>ELEM_POINT_ID</th>\n",
       "      <th>CODE</th>\n",
       "      <th>NOM</th>\n",
       "      <th>GENRE</th>\n",
       "      <th>GENRE_DESC</th>\n",
       "      <th>CATEGORIE</th>\n",
       "      <th>CATEGORIE_DESC</th>\n",
       "      <th>SOUS_CATEGORIE</th>\n",
       "      <th>SOUS_CATEGORIE_DESC</th>\n",
       "      <th>CODE_PARENT</th>\n",
       "      <th>...</th>\n",
       "      <th>COURRIER</th>\n",
       "      <th>IDENTIFIANTPLU</th>\n",
       "      <th>TYPEIMPLANTATIONPLU</th>\n",
       "      <th>INTITULEPROTECTIONPLU</th>\n",
       "      <th>ANNEEABATTAGE</th>\n",
       "      <th>ESSOUCHEMENT</th>\n",
       "      <th>DIAMETREARBRE</th>\n",
       "      <th>CAUSEABATTAGE</th>\n",
       "      <th>COLLECTIVITE</th>\n",
       "      <th>GeoJSON</th>\n",
       "    </tr>\n",
       "  </thead>\n",
       "  <tbody>\n",
       "    <tr>\n",
       "      <th>0</th>\n",
       "      <td>23881</td>\n",
       "      <td>ESP29285</td>\n",
       "      <td>ESP29285</td>\n",
       "      <td>VEG</td>\n",
       "      <td>VEGETATION</td>\n",
       "      <td>ESP01</td>\n",
       "      <td>Arbre</td>\n",
       "      <td>ESP174</td>\n",
       "      <td>Arbre d'espaces ouverts</td>\n",
       "      <td>ESP639</td>\n",
       "      <td>...</td>\n",
       "      <td>NaN</td>\n",
       "      <td>170.0</td>\n",
       "      <td>Alignement</td>\n",
       "      <td>L 123-1.7</td>\n",
       "      <td>NaN</td>\n",
       "      <td>NaN</td>\n",
       "      <td>NaN</td>\n",
       "      <td>NaN</td>\n",
       "      <td>Ville de Grenoble</td>\n",
       "      <td>{\"type\":\"Point\",\"coordinates\":[5.7436272177661...</td>\n",
       "    </tr>\n",
       "    <tr>\n",
       "      <th>1</th>\n",
       "      <td>23886</td>\n",
       "      <td>ESP29286</td>\n",
       "      <td>ESP29286</td>\n",
       "      <td>VEG</td>\n",
       "      <td>VEGETATION</td>\n",
       "      <td>ESP01</td>\n",
       "      <td>Arbre</td>\n",
       "      <td>ESP187</td>\n",
       "      <td>Bois semi naturel</td>\n",
       "      <td>ESP53</td>\n",
       "      <td>...</td>\n",
       "      <td>NaN</td>\n",
       "      <td>NaN</td>\n",
       "      <td>NaN</td>\n",
       "      <td>NaN</td>\n",
       "      <td>NaN</td>\n",
       "      <td>NaN</td>\n",
       "      <td>NaN</td>\n",
       "      <td>NaN</td>\n",
       "      <td>Ville de Grenoble</td>\n",
       "      <td>{\"type\":\"Point\",\"coordinates\":[5.7448701441213...</td>\n",
       "    </tr>\n",
       "    <tr>\n",
       "      <th>2</th>\n",
       "      <td>23891</td>\n",
       "      <td>ESP29287</td>\n",
       "      <td>ESP29287</td>\n",
       "      <td>VEG</td>\n",
       "      <td>VEGETATION</td>\n",
       "      <td>ESP01</td>\n",
       "      <td>Arbre</td>\n",
       "      <td>ESP174</td>\n",
       "      <td>Arbre d'espaces ouverts</td>\n",
       "      <td>ESP1058</td>\n",
       "      <td>...</td>\n",
       "      <td>NaN</td>\n",
       "      <td>NaN</td>\n",
       "      <td>NaN</td>\n",
       "      <td>NaN</td>\n",
       "      <td>NaN</td>\n",
       "      <td>NaN</td>\n",
       "      <td>NaN</td>\n",
       "      <td>NaN</td>\n",
       "      <td>Grenoble Alpes Métropole</td>\n",
       "      <td>{\"type\":\"Point\",\"coordinates\":[5.7422258900484...</td>\n",
       "    </tr>\n",
       "    <tr>\n",
       "      <th>3</th>\n",
       "      <td>23895</td>\n",
       "      <td>ESP29288</td>\n",
       "      <td>ESP29288</td>\n",
       "      <td>VEG</td>\n",
       "      <td>VEGETATION</td>\n",
       "      <td>ESP01</td>\n",
       "      <td>Arbre</td>\n",
       "      <td>ESP151</td>\n",
       "      <td>Arbre de voirie</td>\n",
       "      <td>ESP616</td>\n",
       "      <td>...</td>\n",
       "      <td>NaN</td>\n",
       "      <td>NaN</td>\n",
       "      <td>NaN</td>\n",
       "      <td>NaN</td>\n",
       "      <td>NaN</td>\n",
       "      <td>NaN</td>\n",
       "      <td>NaN</td>\n",
       "      <td>NaN</td>\n",
       "      <td>Ville de Grenoble</td>\n",
       "      <td>{\"type\":\"Point\",\"coordinates\":[5.7447571861843...</td>\n",
       "    </tr>\n",
       "    <tr>\n",
       "      <th>4</th>\n",
       "      <td>12182</td>\n",
       "      <td>ESP29289</td>\n",
       "      <td>ESP29289</td>\n",
       "      <td>VEG</td>\n",
       "      <td>VEGETATION</td>\n",
       "      <td>ESP01</td>\n",
       "      <td>Arbre</td>\n",
       "      <td>ESP174</td>\n",
       "      <td>Arbre d'espaces ouverts</td>\n",
       "      <td>ESP1213</td>\n",
       "      <td>...</td>\n",
       "      <td>NaN</td>\n",
       "      <td>NaN</td>\n",
       "      <td>NaN</td>\n",
       "      <td>NaN</td>\n",
       "      <td>NaN</td>\n",
       "      <td>NaN</td>\n",
       "      <td>NaN</td>\n",
       "      <td>NaN</td>\n",
       "      <td>Ville de Grenoble</td>\n",
       "      <td>{\"type\":\"Point\",\"coordinates\":[5.7366655831041...</td>\n",
       "    </tr>\n",
       "  </tbody>\n",
       "</table>\n",
       "<p>5 rows × 32 columns</p>\n",
       "</div>"
      ],
      "text/plain": [
       "   ELEM_POINT_ID      CODE       NOM GENRE  GENRE_DESC CATEGORIE  \\\n",
       "0          23881  ESP29285  ESP29285   VEG  VEGETATION     ESP01   \n",
       "1          23886  ESP29286  ESP29286   VEG  VEGETATION     ESP01   \n",
       "2          23891  ESP29287  ESP29287   VEG  VEGETATION     ESP01   \n",
       "3          23895  ESP29288  ESP29288   VEG  VEGETATION     ESP01   \n",
       "4          12182  ESP29289  ESP29289   VEG  VEGETATION     ESP01   \n",
       "\n",
       "  CATEGORIE_DESC SOUS_CATEGORIE      SOUS_CATEGORIE_DESC CODE_PARENT  ...  \\\n",
       "0          Arbre         ESP174  Arbre d'espaces ouverts      ESP639  ...   \n",
       "1          Arbre         ESP187        Bois semi naturel       ESP53  ...   \n",
       "2          Arbre         ESP174  Arbre d'espaces ouverts     ESP1058  ...   \n",
       "3          Arbre         ESP151          Arbre de voirie      ESP616  ...   \n",
       "4          Arbre         ESP174  Arbre d'espaces ouverts     ESP1213  ...   \n",
       "\n",
       "  COURRIER  IDENTIFIANTPLU TYPEIMPLANTATIONPLU INTITULEPROTECTIONPLU  \\\n",
       "0      NaN           170.0          Alignement             L 123-1.7   \n",
       "1      NaN             NaN                 NaN                   NaN   \n",
       "2      NaN             NaN                 NaN                   NaN   \n",
       "3      NaN             NaN                 NaN                   NaN   \n",
       "4      NaN             NaN                 NaN                   NaN   \n",
       "\n",
       "  ANNEEABATTAGE ESSOUCHEMENT DIAMETREARBRE  CAUSEABATTAGE  \\\n",
       "0           NaN          NaN           NaN            NaN   \n",
       "1           NaN          NaN           NaN            NaN   \n",
       "2           NaN          NaN           NaN            NaN   \n",
       "3           NaN          NaN           NaN            NaN   \n",
       "4           NaN          NaN           NaN            NaN   \n",
       "\n",
       "               COLLECTIVITE                                            GeoJSON  \n",
       "0         Ville de Grenoble  {\"type\":\"Point\",\"coordinates\":[5.7436272177661...  \n",
       "1         Ville de Grenoble  {\"type\":\"Point\",\"coordinates\":[5.7448701441213...  \n",
       "2  Grenoble Alpes Métropole  {\"type\":\"Point\",\"coordinates\":[5.7422258900484...  \n",
       "3         Ville de Grenoble  {\"type\":\"Point\",\"coordinates\":[5.7447571861843...  \n",
       "4         Ville de Grenoble  {\"type\":\"Point\",\"coordinates\":[5.7366655831041...  \n",
       "\n",
       "[5 rows x 32 columns]"
      ]
     },
     "execution_count": 1,
     "metadata": {},
     "output_type": "execute_result"
    }
   ],
   "source": [
    "########################### ouverture du fichier et visualisation des premières lignes\n",
    "import pandas as pd\n",
    "df = pd.read_csv(\"/home/mathieu.vialat@Digital-Grenoble.local/Documents/Projet_arbres/data/ESP_PUBLIC.IDENTITE_ARBRE.csv\", sep = ',', header = 0, index_col = False, names = None)\n",
    "df.head()"
   ]
  },
  {
   "cell_type": "code",
   "execution_count": 2,
   "id": "0f975316",
   "metadata": {},
   "outputs": [
    {
     "name": "stdout",
     "output_type": "stream",
     "text": [
      "['Platanus' 'Acer' 'Malus' 'Populus' 'Magnolia' 'Prunus' 'Carpinus'\n",
      " 'Fraxinus' 'Chamaecyparis' 'Celtis' 'Corylus' 'Diospyros' 'Quercus'\n",
      " 'Cupressus' 'Sophora' 'Koelreuteria' 'Aesculus' 'Fagus' 'Alnus'\n",
      " 'Sambucus' 'Pinus' 'Betula' 'Salix' 'Ulmus' 'Cercis' 'Tilia' 'Morus'\n",
      " 'Cedrus' 'Ginkgo' 'Liquidambar' 'Picea' 'Cedrela' 'Broussonetia' 'Pyrus'\n",
      " 'Punica' 'Liriodendron' 'Gleditsia' 'Mespilus' 'Robinia'\n",
      " 'Cupressocyparis' 'Cydonia' 'Ficus' 'Metasequoia' 'Taxus' 'Sequoia' nan\n",
      " 'Zelkova' 'Lagerstroemia' 'Tetradium' 'Catalpa' 'Rhus' 'Pterocarya'\n",
      " 'Acacia' 'Abies' 'Parrotia' 'Photinia' 'Cercidiphyllum' 'Buxus'\n",
      " 'Pseudotsuga' 'Paulownia' 'Ailanthus' 'Juglans' 'Thuja' 'Sequoiadendron'\n",
      " 'Albizia' 'Juniperus' 'Trachycarpus' 'Ostrya' 'Crataegus' 'Davidia'\n",
      " 'Libocedrus' 'Olea' 'Sorbus' 'Cotinus' 'Syringa' 'Amélanchier'\n",
      " 'Clerodendron' 'Larix' 'Gymnocladus' 'Chionanthus' 'Pteroceltis'\n",
      " 'Taxodium' 'Chimonanthus' 'Ilex' 'Phellodendron' 'Cephalotaxus' 'Ptelea'\n",
      " 'Poncinos' 'Cornus' 'Sciadopitys' 'Phillyrea' 'Eleagnus' 'Sorbopyrus'\n",
      " 'Eriobotrya ' 'Lonicera' 'Maclura' 'Laburnum' 'Hovenia' 'Halesia'\n",
      " 'Eucalyptus' 'Ligustrum' 'Carya' 'Calocedrus' 'Castanea' 'Sterculia'\n",
      " 'Laurus' 'Cryptomeria' 'Pistacia' 'Araucaria' 'Pterostyrax' 'Fontanesia'\n",
      " 'Chitalpa' 'Cladastris' 'Euodia' 'Idesia' 'Hibiscus' 'Staphylea'\n",
      " 'Rhamnus' 'Styrax' 'Nyssa']\n",
      "Il y a  120  genres d'arbres différents à Grenoble.\n"
     ]
    }
   ],
   "source": [
    "########################### identifié les genres botaniques représentés à grenoble\n",
    "list_genre_bota = df['GENRE_BOTA'].unique()\n",
    "print(list_genre_bota)\n",
    "print(\"Il y a \", len(list_genre_bota), \" genres d'arbres différents à Grenoble.\")"
   ]
  },
  {
   "cell_type": "code",
   "execution_count": 3,
   "id": "7483ece6",
   "metadata": {},
   "outputs": [
    {
     "name": "stdout",
     "output_type": "stream",
     "text": [
      "0        Platanus hispanica\n",
      "1                       NaN\n",
      "2          Acer platanoides\n",
      "3        Platanus hispanica\n",
      "4            Acer campestre\n",
      "                ...        \n",
      "31613       Celtis sinensis\n",
      "31614       Celtis sinensis\n",
      "31615       Celtis sinensis\n",
      "31616       Celtis sinensis\n",
      "31617       Celtis sinensis\n",
      "Name: ESPECE_COMP, Length: 31618, dtype: object\n",
      "Il y a  353  genres d'arbres différents à Grenoble.\n"
     ]
    }
   ],
   "source": [
    "########################### identifié les espèces représentés à grenoble\n",
    "df['ESPECE_COMP'] = df['GENRE_BOTA']+ \" \" + df['ESPECE']\n",
    "liste_espece = df['ESPECE_COMP'].unique()\n",
    "print(df['ESPECE_COMP'])\n",
    "print(\"Il y a \", len(liste_espece), \" genres d'arbres différents à Grenoble.\")"
   ]
  },
  {
   "cell_type": "code",
   "execution_count": 4,
   "id": "5cda88d6",
   "metadata": {},
   "outputs": [],
   "source": [
    "################# fonction calculant la catégorie la plus représentée pour une colonne donnée\n",
    "def nb_rep_genre(dataframe, column):\n",
    "    dataframe.groupby(column).count().sort_values('CODE', ascending = False)['CODE']\n",
    "    maxi = dataframe.groupby(column).count().max()['CODE']\n",
    "    maxi_nom = dataframe.groupby(column).count().idxmax()['CODE']\n",
    "    return maxi, maxi_nom"
   ]
  },
  {
   "cell_type": "code",
   "execution_count": 5,
   "id": "9c84c383",
   "metadata": {},
   "outputs": [
    {
     "data": {
      "text/plain": [
       "GENRE_BOTA\n",
       "Acer           5055\n",
       "Platanus       4492\n",
       "Pinus          1962\n",
       "Tilia          1740\n",
       "Fraxinus       1505\n",
       "               ... \n",
       "Pseudotsuga       1\n",
       "Laurus            1\n",
       "Acacia            1\n",
       "Sciadopitys       1\n",
       "Poncinos          1\n",
       "Name: CODE, Length: 119, dtype: int64"
      ]
     },
     "execution_count": 5,
     "metadata": {},
     "output_type": "execute_result"
    }
   ],
   "source": [
    "##################### nombre de représentant de chaque genre botanique\n",
    "df.groupby('GENRE_BOTA').count().sort_values('CODE', ascending = False)['CODE']"
   ]
  },
  {
   "cell_type": "code",
   "execution_count": 6,
   "id": "8292f383",
   "metadata": {},
   "outputs": [],
   "source": [
    "maxi_genre = df.groupby('GENRE_BOTA').count().max()['CODE']"
   ]
  },
  {
   "cell_type": "code",
   "execution_count": 7,
   "id": "a1be841a",
   "metadata": {},
   "outputs": [
    {
     "name": "stdout",
     "output_type": "stream",
     "text": [
      "Le genre comptant le plus d'arbres à Grenoble est Acer avec 5055 arbres.\n"
     ]
    }
   ],
   "source": [
    "maxi_genre_nom = df.groupby('GENRE_BOTA').count().idxmax()['CODE']\n",
    "print(\"Le genre comptant le plus d'arbres à Grenoble est\", maxi_genre_nom, \"avec\", maxi_genre, \"arbres.\")"
   ]
  },
  {
   "cell_type": "code",
   "execution_count": 8,
   "id": "051ec36a",
   "metadata": {},
   "outputs": [
    {
     "name": "stdout",
     "output_type": "stream",
     "text": [
      "Le genre comptant le plus d'arbres à Grenoble est Acer avec 5055 arbres.\n"
     ]
    }
   ],
   "source": [
    "maxi_genre2, maxi_genre_nom2 = nb_rep_genre(df, 'GENRE_BOTA')\n",
    "print(\"Le genre comptant le plus d'arbres à Grenoble est\", maxi_genre_nom2, \"avec\", maxi_genre2, \"arbres.\")"
   ]
  },
  {
   "cell_type": "code",
   "execution_count": 9,
   "id": "11274c63",
   "metadata": {},
   "outputs": [
    {
     "name": "stdout",
     "output_type": "stream",
     "text": [
      "L'espèce comptant le plus d'arbres à Grenoble est Platanus acerifolia avec 3813 arbres.\n"
     ]
    }
   ],
   "source": [
    "##################### nombre de représentant de chaque espèce\n",
    "maxi_espece, maxi_espece_nom = nb_rep_genre(df, 'ESPECE_COMP')\n",
    "print(\"L'espèce comptant le plus d'arbres à Grenoble est\", maxi_espece_nom, \"avec\", maxi_espece, \"arbres.\")"
   ]
  },
  {
   "cell_type": "code",
   "execution_count": 10,
   "id": "4034ad84",
   "metadata": {},
   "outputs": [
    {
     "data": {
      "text/plain": [
       "GENRE_BOTA\n",
       "Acacia         1\n",
       "Castanea       1\n",
       "Eucalyptus     1\n",
       "Laurus         1\n",
       "Nyssa          1\n",
       "Poncinos       1\n",
       "Pseudotsuga    1\n",
       "Rhamnus        1\n",
       "Sciadopitys    1\n",
       "Sorbopyrus     1\n",
       "Staphylea      1\n",
       "Sterculia      1\n",
       "Name: CODE, dtype: int64"
      ]
     },
     "execution_count": 10,
     "metadata": {},
     "output_type": "execute_result"
    }
   ],
   "source": [
    "##################### Listez tous les représentant unique de leur genre botanique\n",
    "serie_genre = df.groupby('GENRE_BOTA').count()['CODE']\n",
    "serie_genre_unique = serie_genre[serie_genre == 1]\n",
    "serie_genre_unique.head(13)"
   ]
  },
  {
   "cell_type": "code",
   "execution_count": 11,
   "id": "e9275dba",
   "metadata": {},
   "outputs": [
    {
     "data": {
      "text/plain": [
       "ESPECE_COMP\n",
       "Abies alba                   1\n",
       "Abies koreana                1\n",
       "Acacia dealbata              1\n",
       "Acer capillipes              1\n",
       "Acer hippocastanum           1\n",
       "Acer opalus                  1\n",
       "Acer zoeschense              1\n",
       "Aesculus chandelle seche     1\n",
       "Carya cordiformis            1\n",
       "Castanea sativa              1\n",
       "Cedrela sinense              1\n",
       "Celtis orientalis            1\n",
       "Chamaecyparis formosensis    1\n",
       "Name: CODE, dtype: int64"
      ]
     },
     "execution_count": 11,
     "metadata": {},
     "output_type": "execute_result"
    }
   ],
   "source": [
    "##################### Listez tous les représentant unique de leur espece\n",
    "serie_genre = df.groupby('ESPECE_COMP').count()['CODE']\n",
    "serie_genre_unique = serie_genre[serie_genre == 1]\n",
    "serie_genre_unique.head(13)"
   ]
  },
  {
   "cell_type": "code",
   "execution_count": 12,
   "id": "24ab2354",
   "metadata": {},
   "outputs": [
    {
     "data": {
      "text/plain": [
       "GENRE_BOTA\n",
       "Acer           5055\n",
       "Platanus       4492\n",
       "Pinus          1962\n",
       "Tilia          1740\n",
       "Fraxinus       1505\n",
       "               ... \n",
       "Pseudotsuga       1\n",
       "Laurus            1\n",
       "Acacia            1\n",
       "Sciadopitys       1\n",
       "Poncinos          1\n",
       "Name: CODE, Length: 119, dtype: int64"
      ]
     },
     "execution_count": 12,
     "metadata": {},
     "output_type": "execute_result"
    }
   ],
   "source": [
    "######################### classer tous les genres botaniques en fonction de leur nombre\n",
    "df.groupby('GENRE_BOTA').count()['CODE'].sort_values(ascending=False)"
   ]
  },
  {
   "cell_type": "code",
   "execution_count": 13,
   "id": "3d94e070",
   "metadata": {},
   "outputs": [
    {
     "data": {
      "text/plain": [
       "ESPECE_COMP\n",
       "Platanus acerifolia    3813\n",
       "Acer pseudoplatanus    1303\n",
       "Pinus nigra            1253\n",
       "Carpinus betulus       1198\n",
       "Acer platanoides       1018\n",
       "                       ... \n",
       "Quercus macrolepis        1\n",
       "Quercus macrocarpa        1\n",
       "Magnolia tulipifera       1\n",
       "Malus denboerii           1\n",
       "Abies alba                1\n",
       "Name: CODE, Length: 352, dtype: int64"
      ]
     },
     "execution_count": 13,
     "metadata": {},
     "output_type": "execute_result"
    }
   ],
   "source": [
    "######################### classer toutes les espèces en fonction de leur nombre\n",
    "df.groupby('ESPECE_COMP').count()['CODE'].sort_values(ascending=False)"
   ]
  },
  {
   "cell_type": "code",
   "execution_count": 14,
   "id": "b61cc43f",
   "metadata": {},
   "outputs": [
    {
     "name": "stdout",
     "output_type": "stream",
     "text": [
      "Le genre d'arbre le plus représenté à Grenoble ( Acer ) compte pour 0.1598772850907711 % du total des arbres\n"
     ]
    }
   ],
   "source": [
    "################## proportion du genre botanique le plus représenté\n",
    "prop_max = df.groupby('GENRE_BOTA').count()['CODE'].sort_values(ascending=False)[0]/ len(df)\n",
    "print(\"Le genre d'arbre le plus représenté à Grenoble (\", maxi_genre_nom, \") compte pour\", prop_max, \"% du total des arbres\")"
   ]
  },
  {
   "cell_type": "code",
   "execution_count": 15,
   "id": "800ec6b2",
   "metadata": {},
   "outputs": [
    {
     "name": "stdout",
     "output_type": "stream",
     "text": [
      "Le genre d'arbre le plus représenté à Grenoble ( Platanus acerifolia ) compte pour 0.12059586311594661 % du total des arbres\n"
     ]
    }
   ],
   "source": [
    "################## proportion de l'espece la plus représentée\n",
    "prop_max_espece = df.groupby('ESPECE_COMP').count()['CODE'].sort_values(ascending=False)[0]/ len(df)\n",
    "print(\"Le genre d'arbre le plus représenté à Grenoble (\", maxi_espece_nom, \") compte pour\", prop_max_espece, \"% du total des arbres\")"
   ]
  },
  {
   "cell_type": "code",
   "execution_count": 16,
   "id": "f67a6d5e",
   "metadata": {},
   "outputs": [
    {
     "data": {
      "text/plain": [
       "GENRE_BOTA\n",
       "Abies        0.000791\n",
       "Acacia       0.000032\n",
       "Acer         0.159877\n",
       "Aesculus     0.014580\n",
       "Ailanthus    0.002499\n",
       "Name: CODE, dtype: float64"
      ]
     },
     "execution_count": 16,
     "metadata": {},
     "output_type": "execute_result"
    }
   ],
   "source": [
    "################## proportion des genres botanique\n",
    "serie_genre_bota_count = df.groupby('GENRE_BOTA').count()['CODE']\n",
    "serie_genre_bota_prop = serie_genre_bota_count.apply(lambda x: x/len(df))\n",
    "serie_genre_bota_prop.head()"
   ]
  },
  {
   "cell_type": "code",
   "execution_count": 17,
   "id": "3a3830f6",
   "metadata": {},
   "outputs": [
    {
     "data": {
      "text/plain": [
       "ESPECE_COMP\n",
       "Abies alba            0.000032\n",
       "Abies concolor        0.000095\n",
       "Abies koreana         0.000032\n",
       "Abies nordmanniana    0.000569\n",
       "Abies pinsapo         0.000063\n",
       "Name: CODE, dtype: float64"
      ]
     },
     "execution_count": 17,
     "metadata": {},
     "output_type": "execute_result"
    }
   ],
   "source": [
    "################## proportion des especes\n",
    "serie_espece_count = df.groupby('ESPECE_COMP').count()['CODE']\n",
    "serie_espece_prop = serie_espece_count.apply(lambda x: x/len(df))\n",
    "serie_espece_prop.head()"
   ]
  },
  {
   "cell_type": "code",
   "execution_count": 18,
   "id": "c2579ed2",
   "metadata": {},
   "outputs": [
    {
     "name": "stdout",
     "output_type": "stream",
     "text": [
      "Les objectifs de la métro sont remplies pour les genres car aucun genre ne représente plus de 20% des arbres à lui tout seul!\n",
      "Les objectifs de la métro ne sont pas remplies pour les espèces car Platanus acerifolia  représente plus de 10% des arbres de Grenoble à elle toute seule!\n"
     ]
    }
   ],
   "source": [
    "print(\"Les objectifs de la métro sont remplies pour les genres car aucun genre ne représente plus de 20% des arbres à lui tout seul!\")\n",
    "print(\"Les objectifs de la métro ne sont pas remplies pour les espèces car\", maxi_espece_nom, \" représente plus de 10% des arbres de Grenoble à elle toute seule!\")"
   ]
  },
  {
   "cell_type": "code",
   "execution_count": 19,
   "id": "4069aa7c",
   "metadata": {},
   "outputs": [],
   "source": [
    "################ Comment la pratique de la plantation a évolué avec le temps?\n",
    "################ Diversifie t'on plus maintenant?"
   ]
  },
  {
   "cell_type": "code",
   "execution_count": 20,
   "id": "7b5d5eda",
   "metadata": {},
   "outputs": [
    {
     "data": {
      "text/html": [
       "<div>\n",
       "<style scoped>\n",
       "    .dataframe tbody tr th:only-of-type {\n",
       "        vertical-align: middle;\n",
       "    }\n",
       "\n",
       "    .dataframe tbody tr th {\n",
       "        vertical-align: top;\n",
       "    }\n",
       "\n",
       "    .dataframe thead th {\n",
       "        text-align: right;\n",
       "    }\n",
       "</style>\n",
       "<table border=\"1\" class=\"dataframe\">\n",
       "  <thead>\n",
       "    <tr style=\"text-align: right;\">\n",
       "      <th></th>\n",
       "      <th>GENRE_BOTA</th>\n",
       "      <th>ANNEEDEPLANTATION</th>\n",
       "    </tr>\n",
       "  </thead>\n",
       "  <tbody>\n",
       "    <tr>\n",
       "      <th>0</th>\n",
       "      <td>Platanus</td>\n",
       "      <td>1977.0</td>\n",
       "    </tr>\n",
       "    <tr>\n",
       "      <th>1</th>\n",
       "      <td>Acer</td>\n",
       "      <td>2001.0</td>\n",
       "    </tr>\n",
       "    <tr>\n",
       "      <th>2</th>\n",
       "      <td>Acer</td>\n",
       "      <td>1975.0</td>\n",
       "    </tr>\n",
       "    <tr>\n",
       "      <th>3</th>\n",
       "      <td>Platanus</td>\n",
       "      <td>1978.0</td>\n",
       "    </tr>\n",
       "    <tr>\n",
       "      <th>4</th>\n",
       "      <td>Acer</td>\n",
       "      <td>1960.0</td>\n",
       "    </tr>\n",
       "  </tbody>\n",
       "</table>\n",
       "</div>"
      ],
      "text/plain": [
       "  GENRE_BOTA  ANNEEDEPLANTATION\n",
       "0   Platanus             1977.0\n",
       "1       Acer             2001.0\n",
       "2       Acer             1975.0\n",
       "3   Platanus             1978.0\n",
       "4       Acer             1960.0"
      ]
     },
     "execution_count": 20,
     "metadata": {},
     "output_type": "execute_result"
    }
   ],
   "source": [
    "#################### plot du nombre de genre différents plantés en fonction de l'année\n",
    "df_genre_bota_annee = df[['GENRE_BOTA','ANNEEDEPLANTATION']]\n",
    "df_genre_bota_annee.head()"
   ]
  },
  {
   "cell_type": "code",
   "execution_count": 21,
   "id": "a41e56eb",
   "metadata": {},
   "outputs": [
    {
     "data": {
      "text/plain": [
       "ANNEEDEPLANTATION\n",
       "2018.0    68\n",
       "2014.0    61\n",
       "2015.0    58\n",
       "1975.0    56\n",
       "2017.0    55\n",
       "          ..\n",
       "1900.0     3\n",
       "2021.0     2\n",
       "1964.0     1\n",
       "1959.0     1\n",
       "1944.0     1\n",
       "Name: GENRE_BOTA, Length: 65, dtype: int64"
      ]
     },
     "execution_count": 21,
     "metadata": {},
     "output_type": "execute_result"
    }
   ],
   "source": [
    "df_genre_bota_annee.groupby('ANNEEDEPLANTATION')['GENRE_BOTA'].nunique().sort_values(ascending = False)"
   ]
  },
  {
   "cell_type": "code",
   "execution_count": 22,
   "id": "c4d55bd5",
   "metadata": {},
   "outputs": [
    {
     "data": {
      "text/plain": [
       "<AxesSubplot:xlabel='ANNEEDEPLANTATION'>"
      ]
     },
     "execution_count": 22,
     "metadata": {},
     "output_type": "execute_result"
    },
    {
     "data": {
      "image/png": "[encoded data removed]",
      "text/plain": [
       "<Figure size 1296x864 with 1 Axes>"
      ]
     },
     "metadata": {
      "needs_background": "light"
     },
     "output_type": "display_data"
    }
   ],
   "source": [
    "import matplotlib.pyplot as plt\n",
    "plt.figure(figsize=(18,12))\n",
    "df_genre_bota_annee.groupby('ANNEEDEPLANTATION')['GENRE_BOTA'].nunique().sort_values(ascending = False).plot(kind = 'bar')"
   ]
  },
  {
   "cell_type": "code",
   "execution_count": 23,
   "id": "82b5e025",
   "metadata": {},
   "outputs": [
    {
     "data": {
      "text/plain": [
       "<AxesSubplot:xlabel='ANNEEDEPLANTATION'>"
      ]
     },
     "execution_count": 23,
     "metadata": {},
     "output_type": "execute_result"
    },
    {
     "data": {
      "image/png": "[encoded data removed]",
      "text/plain": [
       "<Figure size 1296x864 with 1 Axes>"
      ]
     },
     "metadata": {
      "needs_background": "light"
     },
     "output_type": "display_data"
    }
   ],
   "source": [
    "plt.figure(figsize=(18,12))\n",
    "df_genre_bota_annee.groupby('ANNEEDEPLANTATION')['GENRE_BOTA'].nunique().plot(kind = 'bar')"
   ]
  },
  {
   "cell_type": "code",
   "execution_count": 24,
   "id": "1418b324",
   "metadata": {},
   "outputs": [
    {
     "data": {
      "text/plain": [
       "<AxesSubplot:title={'center':\"Nb de genre botanique différents en fonction de l'année\"}, xlabel='ANNEEDEPLANTATION', ylabel='Nb genre différents'>"
      ]
     },
     "execution_count": 24,
     "metadata": {},
     "output_type": "execute_result"
    },
    {
     "data": {
      "image/png": "[encoded data removed]",
      "text/plain": [
       "<Figure size 1296x864 with 1 Axes>"
      ]
     },
     "metadata": {
      "needs_background": "light"
     },
     "output_type": "display_data"
    }
   ],
   "source": [
    "plt.figure(figsize=(18,12))\n",
    "plt.xlabel('Année', fontsize = 25)\n",
    "plt.ylabel('Nb genre différents', fontsize = 25)\n",
    "plt.title(\"Nb de genre botanique différents en fonction de l'année\", fontsize = 25)\n",
    "df_genre_bota_annee.groupby('ANNEEDEPLANTATION')['GENRE_BOTA'].nunique().plot(kind = 'bar')"
   ]
  },
  {
   "cell_type": "code",
   "execution_count": 25,
   "id": "8c089ced",
   "metadata": {},
   "outputs": [
    {
     "data": {
      "text/html": [
       "<div>\n",
       "<style scoped>\n",
       "    .dataframe tbody tr th:only-of-type {\n",
       "        vertical-align: middle;\n",
       "    }\n",
       "\n",
       "    .dataframe tbody tr th {\n",
       "        vertical-align: top;\n",
       "    }\n",
       "\n",
       "    .dataframe thead th {\n",
       "        text-align: right;\n",
       "    }\n",
       "</style>\n",
       "<table border=\"1\" class=\"dataframe\">\n",
       "  <thead>\n",
       "    <tr style=\"text-align: right;\">\n",
       "      <th></th>\n",
       "      <th>ESPECE_COMP</th>\n",
       "      <th>ANNEEDEPLANTATION</th>\n",
       "    </tr>\n",
       "  </thead>\n",
       "  <tbody>\n",
       "    <tr>\n",
       "      <th>0</th>\n",
       "      <td>Platanus hispanica</td>\n",
       "      <td>1977.0</td>\n",
       "    </tr>\n",
       "    <tr>\n",
       "      <th>1</th>\n",
       "      <td>NaN</td>\n",
       "      <td>2001.0</td>\n",
       "    </tr>\n",
       "    <tr>\n",
       "      <th>2</th>\n",
       "      <td>Acer platanoides</td>\n",
       "      <td>1975.0</td>\n",
       "    </tr>\n",
       "    <tr>\n",
       "      <th>3</th>\n",
       "      <td>Platanus hispanica</td>\n",
       "      <td>1978.0</td>\n",
       "    </tr>\n",
       "    <tr>\n",
       "      <th>4</th>\n",
       "      <td>Acer campestre</td>\n",
       "      <td>1960.0</td>\n",
       "    </tr>\n",
       "  </tbody>\n",
       "</table>\n",
       "</div>"
      ],
      "text/plain": [
       "          ESPECE_COMP  ANNEEDEPLANTATION\n",
       "0  Platanus hispanica             1977.0\n",
       "1                 NaN             2001.0\n",
       "2    Acer platanoides             1975.0\n",
       "3  Platanus hispanica             1978.0\n",
       "4      Acer campestre             1960.0"
      ]
     },
     "execution_count": 25,
     "metadata": {},
     "output_type": "execute_result"
    }
   ],
   "source": [
    "#################### plot du nombre d'espèces différentes plantées en fonction de l'année\n",
    "df_espece_annee = df[['ESPECE_COMP','ANNEEDEPLANTATION']]\n",
    "df_espece_annee.head()"
   ]
  },
  {
   "cell_type": "code",
   "execution_count": 26,
   "id": "5817c396",
   "metadata": {},
   "outputs": [
    {
     "data": {
      "text/plain": [
       "<AxesSubplot:title={'center':\"Nb d'espèces différentes en fonction de l'année\"}, xlabel='ANNEEDEPLANTATION', ylabel='Nb espèces différentes'>"
      ]
     },
     "execution_count": 26,
     "metadata": {},
     "output_type": "execute_result"
    },
    {
     "data": {
      "image/png": "[encoded data removed]",
      "text/plain": [
       "<Figure size 1296x864 with 1 Axes>"
      ]
     },
     "metadata": {
      "needs_background": "light"
     },
     "output_type": "display_data"
    }
   ],
   "source": [
    "plt.figure(figsize=(18,12))\n",
    "plt.xlabel('Année', fontsize = 25)\n",
    "plt.ylabel('Nb espèces différentes', fontsize = 25)\n",
    "plt.title(\"Nb d'espèces différentes en fonction de l'année\", fontsize = 25)\n",
    "df_espece_annee.groupby('ANNEEDEPLANTATION')['ESPECE_COMP'].nunique().plot(kind = 'bar', color = 'red')"
   ]
  },
  {
   "cell_type": "code",
   "execution_count": 27,
   "id": "37b4d97a",
   "metadata": {},
   "outputs": [],
   "source": [
    "################## genre et espèces les plus représentés par année (proportion)\n",
    "def prop_max_col(col1, col2):\n",
    "    nb_arbres_col1 = df.groupby(col1).count()['GENRE']\n",
    "    nb_arbres_max_col1 = df.groupby([col1, col2]).count()['GENRE'].max(level=0)\n",
    "    prop_arbres_max_col1 = nb_arbres_max_col1 / nb_arbres_col1\n",
    "    df_prop_arbres_max_col1 = prop_arbres_max_col1.to_frame()\n",
    "    df_prop_arbres_max_col1 = df_prop_arbres_max_col1.reset_index()\n",
    "    name_col2 = 'PROP_' + col2 \n",
    "    df_prop_arbres_max_col1 = df_prop_arbres_max_col1.rename(columns = {col1: col1,'GENRE': name_col2})\n",
    "    return df_prop_arbres_max_col1"
   ]
  },
  {
   "cell_type": "code",
   "execution_count": 28,
   "id": "251a6640",
   "metadata": {},
   "outputs": [
    {
     "data": {
      "text/plain": [
       "ANNEEDEPLANTATION\n",
       "1900.0      4\n",
       "1924.0     11\n",
       "1944.0     27\n",
       "1950.0    402\n",
       "1955.0    118\n",
       "Name: GENRE, dtype: int64"
      ]
     },
     "execution_count": 28,
     "metadata": {},
     "output_type": "execute_result"
    }
   ],
   "source": [
    "nb_arbres_annee = df.groupby('ANNEEDEPLANTATION').count()['GENRE']\n",
    "nb_arbres_annee.head()"
   ]
  },
  {
   "cell_type": "code",
   "execution_count": 29,
   "id": "b67f6296",
   "metadata": {},
   "outputs": [
    {
     "name": "stderr",
     "output_type": "stream",
     "text": [
      "/tmp/ipykernel_7538/3825787074.py:1: FutureWarning: Using the level keyword in DataFrame and Series aggregations is deprecated and will be removed in a future version. Use groupby instead. df.median(level=1) should use df.groupby(level=1).median().\n",
      "  nb_arbres_genre_max_annee = df.groupby(['ANNEEDEPLANTATION', 'GENRE_BOTA']).count()['GENRE'].max(level=0)\n"
     ]
    },
    {
     "data": {
      "text/plain": [
       "ANNEEDEPLANTATION\n",
       "1900.0      2\n",
       "1924.0      3\n",
       "1944.0     27\n",
       "1950.0    363\n",
       "1955.0     51\n",
       "1959.0     16\n",
       "1960.0    156\n",
       "1964.0      6\n",
       "1965.0    309\n",
       "1966.0     23\n",
       "Name: GENRE, dtype: int64"
      ]
     },
     "execution_count": 29,
     "metadata": {},
     "output_type": "execute_result"
    }
   ],
   "source": [
    "nb_arbres_genre_max_annee = df.groupby(['ANNEEDEPLANTATION', 'GENRE_BOTA']).count()['GENRE'].max(level=0)\n",
    "nb_arbres_genre_max_annee.head(10)"
   ]
  },
  {
   "cell_type": "code",
   "execution_count": 30,
   "id": "d2ebe79b",
   "metadata": {},
   "outputs": [
    {
     "data": {
      "text/plain": [
       "ANNEEDEPLANTATION\n",
       "1900.0    0.500000\n",
       "1924.0    0.272727\n",
       "1944.0    1.000000\n",
       "1950.0    0.902985\n",
       "1955.0    0.432203\n",
       "Name: GENRE, dtype: float64"
      ]
     },
     "execution_count": 30,
     "metadata": {},
     "output_type": "execute_result"
    }
   ],
   "source": [
    "prop_arbres_genre_max_annee = nb_arbres_genre_max_annee / nb_arbres_annee\n",
    "prop_arbres_genre_max_annee.head()"
   ]
  },
  {
   "cell_type": "code",
   "execution_count": 31,
   "id": "f82697a2",
   "metadata": {},
   "outputs": [
    {
     "name": "stderr",
     "output_type": "stream",
     "text": [
      "/tmp/ipykernel_7538/3543808918.py:4: FutureWarning: Using the level keyword in DataFrame and Series aggregations is deprecated and will be removed in a future version. Use groupby instead. df.median(level=1) should use df.groupby(level=1).median().\n",
      "  nb_arbres_max_col1 = df.groupby([col1, col2]).count()['GENRE'].max(level=0)\n"
     ]
    },
    {
     "data": {
      "text/html": [
       "<div>\n",
       "<style scoped>\n",
       "    .dataframe tbody tr th:only-of-type {\n",
       "        vertical-align: middle;\n",
       "    }\n",
       "\n",
       "    .dataframe tbody tr th {\n",
       "        vertical-align: top;\n",
       "    }\n",
       "\n",
       "    .dataframe thead th {\n",
       "        text-align: right;\n",
       "    }\n",
       "</style>\n",
       "<table border=\"1\" class=\"dataframe\">\n",
       "  <thead>\n",
       "    <tr style=\"text-align: right;\">\n",
       "      <th></th>\n",
       "      <th>ANNEEDEPLANTATION</th>\n",
       "      <th>PROP_GENRE_BOTA</th>\n",
       "    </tr>\n",
       "  </thead>\n",
       "  <tbody>\n",
       "    <tr>\n",
       "      <th>0</th>\n",
       "      <td>1900.0</td>\n",
       "      <td>0.500000</td>\n",
       "    </tr>\n",
       "    <tr>\n",
       "      <th>1</th>\n",
       "      <td>1924.0</td>\n",
       "      <td>0.272727</td>\n",
       "    </tr>\n",
       "    <tr>\n",
       "      <th>2</th>\n",
       "      <td>1944.0</td>\n",
       "      <td>1.000000</td>\n",
       "    </tr>\n",
       "    <tr>\n",
       "      <th>3</th>\n",
       "      <td>1950.0</td>\n",
       "      <td>0.902985</td>\n",
       "    </tr>\n",
       "    <tr>\n",
       "      <th>4</th>\n",
       "      <td>1955.0</td>\n",
       "      <td>0.432203</td>\n",
       "    </tr>\n",
       "  </tbody>\n",
       "</table>\n",
       "</div>"
      ],
      "text/plain": [
       "   ANNEEDEPLANTATION  PROP_GENRE_BOTA\n",
       "0             1900.0         0.500000\n",
       "1             1924.0         0.272727\n",
       "2             1944.0         1.000000\n",
       "3             1950.0         0.902985\n",
       "4             1955.0         0.432203"
      ]
     },
     "execution_count": 31,
     "metadata": {},
     "output_type": "execute_result"
    }
   ],
   "source": [
    "#df_prop_arbres_genre_max_annee = prop_arbres_genre_max_annee.to_frame()\n",
    "#df_prop_arbres_genre_max_annee = df_prop_arbres_genre_max_annee.reset_index()\n",
    "#df_prop_arbres_genre_max_annee = df_prop_arbres_genre_max_annee.rename(columns = {'ANNEEDEPLANTATION': 'ANNEEDEPLANTATION','GENRE': 'PROP'})\n",
    "#df_prop_arbres_genre_max_annee.head()\n",
    "df_prop_arbres_genre_max_annee = prop_max_col(\"ANNEEDEPLANTATION\", \"GENRE_BOTA\")\n",
    "df_prop_arbres_genre_max_annee.head()"
   ]
  },
  {
   "cell_type": "code",
   "execution_count": 32,
   "id": "a8605600",
   "metadata": {},
   "outputs": [
    {
     "data": {
      "text/plain": [
       "<AxesSubplot:xlabel='ANNEEDEPLANTATION', ylabel='PROP_GENRE_BOTA'>"
      ]
     },
     "execution_count": 32,
     "metadata": {},
     "output_type": "execute_result"
    },
    {
     "data": {
      "image/png": "[encoded data removed]",
      "text/plain": [
       "<Figure size 432x288 with 1 Axes>"
      ]
     },
     "metadata": {
      "needs_background": "light"
     },
     "output_type": "display_data"
    }
   ],
   "source": [
    "df_prop_arbres_genre_max_annee.plot(kind = 'scatter', x = 'ANNEEDEPLANTATION', y = 'PROP_GENRE_BOTA', c = 'darkblue')"
   ]
  },
  {
   "cell_type": "code",
   "execution_count": 33,
   "id": "7acff3ca",
   "metadata": {},
   "outputs": [
    {
     "name": "stderr",
     "output_type": "stream",
     "text": [
      "/tmp/ipykernel_7538/3543808918.py:4: FutureWarning: Using the level keyword in DataFrame and Series aggregations is deprecated and will be removed in a future version. Use groupby instead. df.median(level=1) should use df.groupby(level=1).median().\n",
      "  nb_arbres_max_col1 = df.groupby([col1, col2]).count()['GENRE'].max(level=0)\n"
     ]
    },
    {
     "data": {
      "text/plain": [
       "<AxesSubplot:xlabel='ANNEEDEPLANTATION', ylabel='PROP_ESPECE_COMP'>"
      ]
     },
     "execution_count": 33,
     "metadata": {},
     "output_type": "execute_result"
    },
    {
     "data": {
      "image/png": "[encoded data removed]",
      "text/plain": [
       "<Figure size 432x288 with 1 Axes>"
      ]
     },
     "metadata": {
      "needs_background": "light"
     },
     "output_type": "display_data"
    }
   ],
   "source": [
    "df_prop_arbres_espece_max_annee = prop_max_col(\"ANNEEDEPLANTATION\", \"ESPECE_COMP\")\n",
    "df_prop_arbres_espece_max_annee.plot(kind = 'scatter', x = 'ANNEEDEPLANTATION', y = 'PROP_ESPECE_COMP', c = 'darkblue')"
   ]
  }
 ],
 "metadata": {
  "kernelspec": {
   "display_name": "Python 3 (ipykernel)",
   "language": "python",
   "name": "python3"
  },
  "language_info": {
   "codemirror_mode": {
    "name": "ipython",
    "version": 3
   },
   "file_extension": ".py",
   "mimetype": "text/x-python",
   "name": "python",
   "nbconvert_exporter": "python",
   "pygments_lexer": "ipython3",
   "version": "3.9.7"
  }
 },
 "nbformat": 4,
 "nbformat_minor": 5
}
