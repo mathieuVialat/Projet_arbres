{
 "cells": [
  {
   "cell_type": "markdown",
   "id": "237e5049",
   "metadata": {},
   "source": [
    "<h1> Etude des arbres de Grenoble <h1>"
   ]
  },
  {
   "cell_type": "code",
   "execution_count": 2,
   "id": "9f48188a",
   "metadata": {},
   "outputs": [
    {
     "name": "stdout",
     "output_type": "stream",
     "text": [
      "31619\n",
      "['12182', 'ESP29289', 'ESP29289', 'VEG', 'VEGETATION', 'ESP01', 'Arbre', 'ESP174', \"Arbre d'espaces ouverts\", 'ESP1213', 'Pc 3 H St Ferjus Chartr Hermin', '2', 'AR29289', 'Acer', 'campestre', '', 'Arbre adulte', '', '', '1960', '', '', '', '', '', '', '', '', '', '', 'Ville de Grenoble', '{\"type\":\"Point\",\"coordinates\":[5.73666558310418,45.1935582748671]}']\n"
     ]
    }
   ],
   "source": [
    "#####################  importer un fichier csv ####################################\n",
    "import csv\n",
    "liste_lignes = []\n",
    "with open(\"/home/mathieu.vialat@Digital-Grenoble.local/Documents/Projet_arbres/data/ESP_PUBLIC.IDENTITE_ARBRE.csv\", newline = '') as f:\n",
    "    data = csv.reader(f)\n",
    "    for lignes in data:\n",
    "        liste_lignes.append(lignes)\n",
    "print(len(liste_lignes))\n",
    "print(liste_lignes[5])        "
   ]
  },
  {
   "cell_type": "code",
   "execution_count": 3,
   "id": "57a02dae",
   "metadata": {},
   "outputs": [
    {
     "name": "stdout",
     "output_type": "stream",
     "text": [
      "['\\ufeffELEM_POINT_ID', 'CODE', 'NOM', 'GENRE', 'GENRE_DESC', 'CATEGORIE', 'CATEGORIE_DESC', 'SOUS_CATEGORIE', 'SOUS_CATEGORIE_DESC', 'CODE_PARENT', 'CODE_PARENT_DESC', 'ADR_SECTEUR', 'BIEN_REFERENCE', 'GENRE_BOTA', 'ESPECE', 'VARIETE', 'STADEDEDEVELOPPEMENT', 'EQUIPE', 'REMARQUES', 'ANNEEDEPLANTATION', 'RAISONDEPLANTATION', 'TRAITEMENTCHENILLES', 'COURRIER', 'IDENTIFIANTPLU', 'TYPEIMPLANTATIONPLU', 'INTITULEPROTECTIONPLU', 'ANNEEABATTAGE', 'ESSOUCHEMENT', 'DIAMETREARBRE', 'CAUSEABATTAGE', 'COLLECTIVITE', 'GeoJSON'] \n",
      " ['23881', 'ESP29285', 'ESP29285', 'VEG', 'VEGETATION', 'ESP01', 'Arbre', 'ESP174', \"Arbre d'espaces ouverts\", 'ESP639', 'Cité Moyrand E Cartan le mail ', '5', 'AR29285', 'Platanus', 'hispanica', '', 'Arbre adulte', '', '', '1977', '', '', '', '170', 'Alignement', 'L 123-1.7', '', '', '', '', 'Ville de Grenoble', '{\"type\":\"Point\",\"coordinates\":[5.74362721776614,45.1799034026163]}']\n"
     ]
    }
   ],
   "source": [
    "##################################### Affichage des premières lignes du fichier ###############################\n",
    "print(liste_lignes[0], '\\n', liste_lignes[1]) \n",
    "# liste 0: en tête des colonnes\n",
    "# liste 1: valeur pour chaque colonne pour le premier arbre"
   ]
  },
  {
   "cell_type": "code",
   "execution_count": 4,
   "id": "203a855c",
   "metadata": {},
   "outputs": [
    {
     "name": "stdout",
     "output_type": "stream",
     "text": [
      "CODE \n",
      " ESP29285\n"
     ]
    }
   ],
   "source": [
    "print(liste_lignes[0][1], '\\n', liste_lignes[1][1])"
   ]
  },
  {
   "cell_type": "code",
   "execution_count": 5,
   "id": "70d09ecf",
   "metadata": {},
   "outputs": [
    {
     "name": "stdout",
     "output_type": "stream",
     "text": [
      "31618\n",
      "1960\n"
     ]
    }
   ],
   "source": [
    "############################################ Extraire l'année de plantation de chaque arbre ####################\n",
    "# année de plantation: colonne 19\n",
    "liste_annee_plantation = []\n",
    "for ind in range(1, len(liste_lignes)):\n",
    "    liste_annee_plantation.append(liste_lignes[ind][19])\n",
    "print(len(liste_annee_plantation))    \n",
    "print(liste_annee_plantation[5])"
   ]
  },
  {
   "cell_type": "code",
   "execution_count": 6,
   "id": "5c296558",
   "metadata": {},
   "outputs": [
    {
     "name": "stdout",
     "output_type": "stream",
     "text": [
      "['1977', '2001', '1975', '1978', '1960', '1960', '2000', '1944', '1944', '1991', '2012', '1980', '1992', '1982', '1986', '1977', '2004', '2004', '1965', '1965', '1991', '1960', '1924', '2004', '1960', '1960', '1982', '1990', '2010', '1999', '1998', '1975', '1975', '2001', '2001', '2001', '1965', '1965', '1979', '1960', '1978', '1978', '2006', '1975', '1975', '2001', '2001', '1994', '1995', '1995']\n",
      "['2001', '2012', '2000', '1966', '2006', '2002', '1967', '1996', '1977', '1977', '1977', '1997', '1984', '1984', '1984', '1984', '1996', '1984', '1984', '1984', '1977', '1977', '1977', '1960', '1960', '1996', '2000', '1981', '1976', '2002', '1970', '1970', '1970', '1970', '1970', '1970', '1970', '1970', '2014', '2014', '2014', '2014', '2014', '2014', '2014', '2014', '2014', '2014', '2014', '2014']\n"
     ]
    }
   ],
   "source": [
    "####### Afficher les 50 premières lignes et les 50 dernières de la liste des années de plantation\n",
    "print(liste_annee_plantation[:50:])\n",
    "print(liste_annee_plantation[len(liste_annee_plantation)-50::])"
   ]
  },
  {
   "cell_type": "code",
   "execution_count": 7,
   "id": "b81e2c58",
   "metadata": {},
   "outputs": [
    {
     "name": "stdout",
     "output_type": "stream",
     "text": [
      "Il y a 31618 arbres recensés dans ce fichier\n"
     ]
    }
   ],
   "source": [
    "############################### combien d'arbres sont recensés dans ce jeu de données\n",
    "print(\"Il y a\", len(liste_annee_plantation), \"arbres recensés dans ce fichier\")"
   ]
  },
  {
   "cell_type": "code",
   "execution_count": 38,
   "id": "bc1eca1c-f1df-48a0-8cba-13cc1ab6aff5",
   "metadata": {},
   "outputs": [],
   "source": [
    "############################## nombre d'arbres avec une année de plantation inconnue\n",
    "def nb_arbres_annee(liste, annee):\n",
    "    cmpt_arbre = 0\n",
    "    for arbre in liste:\n",
    "        if(arbre == annee):\n",
    "            cmpt_arbre+=1 \n",
    "    return cmpt_arbre"
   ]
  },
  {
   "cell_type": "code",
   "execution_count": 39,
   "id": "2469d13d",
   "metadata": {},
   "outputs": [
    {
     "name": "stdout",
     "output_type": "stream",
     "text": [
      "1438\n",
      "1438\n"
     ]
    }
   ],
   "source": [
    "nb_arbres_inc = liste_annee_plantation.count(\"\")\n",
    "print(nb_arbres_inc)\n",
    "nb_arbres_inc_func = nb_arbres_annee(liste_annee_plantation, \"\")\n",
    "print(nb_arbres_inc_func)"
   ]
  },
  {
   "cell_type": "code",
   "execution_count": 40,
   "id": "6ef61ed7",
   "metadata": {},
   "outputs": [
    {
     "name": "stdout",
     "output_type": "stream",
     "text": [
      "737\n"
     ]
    }
   ],
   "source": [
    "############################### Nombre d'arbres plantés l'année de ma naissance\n",
    "nb_arbres_naissance = nb_arbres_annee(liste_annee_plantation, \"1995\")\n",
    "print(nb_arbres_naissance)"
   ]
  },
  {
   "cell_type": "code",
   "execution_count": 18,
   "id": "f6a0e153-3cdb-48e1-bfa5-3db8b7e44529",
   "metadata": {},
   "outputs": [],
   "source": [
    "##################################### Plus ancienne et plus récente plantation\n",
    "def min_max_annee(liste):\n",
    "    annee_min_plant = 2022\n",
    "    annee_max_plant = 0\n",
    "    for annee in liste:\n",
    "        if (annee != \"\" and int(annee) < int(annee_min_plant)):\n",
    "            annee_min_plant = annee\n",
    "        if (annee != \"\" and int(annee) > int(annee_max_plant)):\n",
    "            annee_max_plant = annee\n",
    "    return annee_max_plant, annee_min_plant"
   ]
  },
  {
   "cell_type": "code",
   "execution_count": 20,
   "id": "3a971bf4",
   "metadata": {},
   "outputs": [
    {
     "name": "stdout",
     "output_type": "stream",
     "text": [
      "Les arbres recensés ont été plantés entre 1900 et 2021\n"
     ]
    }
   ],
   "source": [
    "annee_max, annee_min = min_max_annee(liste_annee_plantation)  \n",
    "#annee_min_plant = min(liste_annee_plantation)\n",
    "annee_max_plant = max(liste_annee_plantation)\n",
    "\n",
    "print(\"Les arbres recensés ont été plantés entre\", annee_min, \"et\", annee_max)"
   ]
  },
  {
   "cell_type": "code",
   "execution_count": 21,
   "id": "260fe594",
   "metadata": {},
   "outputs": [
    {
     "name": "stdout",
     "output_type": "stream",
     "text": [
      "1900 : 4\n",
      "1901 : 0\n",
      "1902 : 0\n",
      "1903 : 0\n",
      "1904 : 0\n",
      "1905 : 0\n",
      "1906 : 0\n",
      "1907 : 0\n",
      "1908 : 0\n",
      "1909 : 0\n",
      "1910 : 0\n",
      "1911 : 0\n",
      "1912 : 0\n",
      "1913 : 0\n",
      "1914 : 0\n",
      "1915 : 0\n",
      "1916 : 0\n",
      "1917 : 0\n",
      "1918 : 0\n",
      "1919 : 0\n",
      "1920 : 0\n",
      "1921 : 0\n",
      "1922 : 0\n",
      "1923 : 0\n",
      "1924 : 11\n",
      "1925 : 0\n",
      "1926 : 0\n",
      "1927 : 0\n",
      "1928 : 0\n",
      "1929 : 0\n",
      "1930 : 0\n",
      "1931 : 0\n",
      "1932 : 0\n",
      "1933 : 0\n",
      "1934 : 0\n",
      "1935 : 0\n",
      "1936 : 0\n",
      "1937 : 0\n",
      "1938 : 0\n",
      "1939 : 0\n",
      "1940 : 0\n",
      "1941 : 0\n",
      "1942 : 0\n",
      "1943 : 0\n",
      "1944 : 27\n",
      "1945 : 0\n",
      "1946 : 0\n",
      "1947 : 0\n",
      "1948 : 0\n",
      "1949 : 0\n",
      "1950 : 402\n",
      "1951 : 0\n",
      "1952 : 0\n",
      "1953 : 0\n",
      "1954 : 0\n",
      "1955 : 118\n",
      "1956 : 0\n",
      "1957 : 0\n",
      "1958 : 0\n",
      "1959 : 16\n",
      "1960 : 701\n",
      "1961 : 0\n",
      "1962 : 0\n",
      "1963 : 0\n",
      "1964 : 6\n",
      "1965 : 734\n",
      "1966 : 85\n",
      "1967 : 53\n",
      "1968 : 111\n",
      "1969 : 314\n",
      "1970 : 1366\n",
      "1971 : 67\n",
      "1972 : 318\n",
      "1973 : 33\n",
      "1974 : 287\n",
      "1975 : 3631\n",
      "1976 : 898\n",
      "1977 : 602\n",
      "1978 : 847\n",
      "1979 : 324\n",
      "1980 : 1445\n",
      "1981 : 600\n",
      "1982 : 359\n",
      "1983 : 295\n",
      "1984 : 647\n",
      "1985 : 870\n",
      "1986 : 221\n",
      "1987 : 701\n",
      "1988 : 235\n",
      "1989 : 299\n",
      "1990 : 248\n",
      "1991 : 140\n",
      "1992 : 221\n",
      "1993 : 135\n",
      "1994 : 252\n",
      "1995 : 737\n",
      "1996 : 363\n",
      "1997 : 231\n",
      "1998 : 205\n",
      "1999 : 564\n",
      "2000 : 427\n",
      "2001 : 1488\n",
      "2002 : 319\n",
      "2003 : 341\n",
      "2004 : 341\n",
      "2005 : 384\n",
      "2006 : 582\n",
      "2007 : 138\n",
      "2008 : 211\n",
      "2009 : 647\n",
      "2010 : 452\n",
      "2011 : 494\n",
      "2012 : 310\n",
      "2013 : 319\n",
      "2014 : 886\n",
      "2015 : 1012\n",
      "2016 : 516\n",
      "2017 : 622\n",
      "2018 : 775\n",
      "2019 : 88\n",
      "2020 : 102\n",
      "2021 : 3\n",
      "[4, 0, 0, 0, 0, 0, 0, 0, 0, 0, 0, 0, 0, 0, 0, 0, 0, 0, 0, 0, 0, 0, 0, 0, 11, 0, 0, 0, 0, 0, 0, 0, 0, 0, 0, 0, 0, 0, 0, 0, 0, 0, 0, 0, 27, 0, 0, 0, 0, 0, 402, 0, 0, 0, 0, 118, 0, 0, 0, 16, 701, 0, 0, 0, 6, 734, 85, 53, 111, 314, 1366, 67, 318, 33, 287, 3631, 898, 602, 847, 324, 1445, 600, 359, 295, 647, 870, 221, 701, 235, 299, 248, 140, 221, 135, 252, 737, 363, 231, 205, 564, 427, 1488, 319, 341, 341, 384, 582, 138, 211, 647, 452, 494, 310, 319, 886, 1012, 516, 622, 775, 88, 102, 3]\n"
     ]
    }
   ],
   "source": [
    "######################### Nombre d'arbres plantés par année\n",
    "liste_annees = range(1900, 2022)\n",
    "liste_nb_arbres = []\n",
    "for annee in liste_annees:\n",
    "    #if (liste_annee_plantation.count(str(annee))!=0):\n",
    "    liste_nb_arbres.append(liste_annee_plantation.count(str(annee)))\n",
    "    print(annee, \":\", liste_annee_plantation.count(str(annee)))\n",
    "print(liste_nb_arbres)"
   ]
  },
  {
   "cell_type": "code",
   "execution_count": 23,
   "id": "6d99987c",
   "metadata": {},
   "outputs": [],
   "source": [
    "############################## moyenne d'arbre plantés par année\n",
    "from functools import reduce\n",
    "def Average(liste):\n",
    "    return reduce(lambda a, b: a+b, liste) / len(liste)"
   ]
  },
  {
   "cell_type": "code",
   "execution_count": 25,
   "id": "28742847",
   "metadata": {},
   "outputs": [
    {
     "name": "stdout",
     "output_type": "stream",
     "text": [
      "La moyenne d'arbres plantés par années est de 247.38\n"
     ]
    }
   ],
   "source": [
    "moyenne_arbre_annee = sum(liste_nb_arbres) / len(liste_nb_arbres)\n",
    "moyenne_arbre_annee2 = Average(liste_nb_arbres)\n",
    "\n",
    "print(\"La moyenne d'arbres plantés par années est de\", round(moyenne_arbre_annee,2))"
   ]
  },
  {
   "cell_type": "code",
   "execution_count": 26,
   "id": "dcd4819e",
   "metadata": {},
   "outputs": [
    {
     "name": "stdout",
     "output_type": "stream",
     "text": [
      "[(1900, 4), (1901, 0), (1902, 0), (1903, 0), (1904, 0), (1905, 0), (1906, 0), (1907, 0), (1908, 0), (1909, 0), (1910, 0), (1911, 0), (1912, 0), (1913, 0), (1914, 0), (1915, 0), (1916, 0), (1917, 0), (1918, 0), (1919, 0), (1920, 0), (1921, 0), (1922, 0), (1923, 0), (1924, 11), (1925, 0), (1926, 0), (1927, 0), (1928, 0), (1929, 0), (1930, 0), (1931, 0), (1932, 0), (1933, 0), (1934, 0), (1935, 0), (1936, 0), (1937, 0), (1938, 0), (1939, 0), (1940, 0), (1941, 0), (1942, 0), (1943, 0), (1944, 27), (1945, 0), (1946, 0), (1947, 0), (1948, 0), (1949, 0), (1950, 402), (1951, 0), (1952, 0), (1953, 0), (1954, 0), (1955, 118), (1956, 0), (1957, 0), (1958, 0), (1959, 16), (1960, 701), (1961, 0), (1962, 0), (1963, 0), (1964, 6), (1965, 734), (1966, 85), (1967, 53), (1968, 111), (1969, 314), (1970, 1366), (1971, 67), (1972, 318), (1973, 33), (1974, 287), (1975, 3631), (1976, 898), (1977, 602), (1978, 847), (1979, 324), (1980, 1445), (1981, 600), (1982, 359), (1983, 295), (1984, 647), (1985, 870), (1986, 221), (1987, 701), (1988, 235), (1989, 299), (1990, 248), (1991, 140), (1992, 221), (1993, 135), (1994, 252), (1995, 737), (1996, 363), (1997, 231), (1998, 205), (1999, 564), (2000, 427), (2001, 1488), (2002, 319), (2003, 341), (2004, 341), (2005, 384), (2006, 582), (2007, 138), (2008, 211), (2009, 647), (2010, 452), (2011, 494), (2012, 310), (2013, 319), (2014, 886), (2015, 1012), (2016, 516), (2017, 622), (2018, 775), (2019, 88), (2020, 102), (2021, 3)]\n",
      "122\n"
     ]
    }
   ],
   "source": [
    "########################### stockage annee et nombre arbres dans un tuple puis créer une liste avec toutes les années\n",
    "liste_annee_nb_arbres = []\n",
    "for ind in range(len(liste_annees)):\n",
    "    liste_annee_nb_arbres.append((liste_annees[ind], liste_nb_arbres[ind]))\n",
    "print(liste_annee_nb_arbres)\n",
    "print(len(liste_annee_nb_arbres))"
   ]
  },
  {
   "cell_type": "code",
   "execution_count": 91,
   "id": "1e19f226",
   "metadata": {},
   "outputs": [
    {
     "data": {
      "text/plain": [
       "{1, 2, 3, 5}"
      ]
     },
     "execution_count": 91,
     "metadata": {},
     "output_type": "execute_result"
    }
   ],
   "source": [
    "l = [1,1,2,3,1,5]\n",
    "s = set(l)\n",
    "s"
   ]
  },
  {
   "cell_type": "code",
   "execution_count": 93,
   "id": "dd94cba3",
   "metadata": {},
   "outputs": [
    {
     "data": {
      "text/plain": [
       "True"
      ]
     },
     "execution_count": 93,
     "metadata": {},
     "output_type": "execute_result"
    }
   ],
   "source": [
    "2 in s"
   ]
  },
  {
   "cell_type": "code",
   "execution_count": 28,
   "id": "78a8b28c",
   "metadata": {},
   "outputs": [
    {
     "name": "stdout",
     "output_type": "stream",
     "text": [
      "17 17\n"
     ]
    }
   ],
   "source": [
    "########################### Quel maire de Grenoble a planté le plus d'arbres \n",
    "liste_maire = [\"Jay\", \"Rivail\", \"Viallet\", \"Cornier\", \"Mistral\", \"Martin\", \"Cocat\", \"Lafleur\", \"martin\", \"Bally\", \"Perinetti\", \"Martin\", \"Michallon\", \"Dubedout\", \"Carignon\", \"Destot\", \"Piolle\"]\n",
    "annee_maire = [1904, 1908, 1910, 1919, 1932, 1935, 1944, 1945, 1947, 1948, 1949, 1959, 1965, 1983,1995,2014,2021]\n",
    "print(len(liste_maire), len(annee_maire))"
   ]
  },
  {
   "cell_type": "code",
   "execution_count": 32,
   "id": "33e7c5c8",
   "metadata": {},
   "outputs": [
    {
     "name": "stdout",
     "output_type": "stream",
     "text": [
      "Le maire ayant planté le plus d'arbres est Dubedout avec 11635 arbres\n"
     ]
    }
   ],
   "source": [
    "ind=0\n",
    "liste_nb_arbres_maires = []\n",
    "arbre_max = 0\n",
    "nom_maire = \"\"\n",
    "for index_maire, periode in enumerate(annee_maire):\n",
    "    somme_arbre = 0\n",
    "    #print(ind)\n",
    "    while(ind < len(liste_annee_nb_arbres) and liste_annee_nb_arbres[ind][0]<= periode):\n",
    "        somme_arbre += liste_annee_nb_arbres[ind][1]\n",
    "        ind+=1\n",
    "    if (somme_arbre > arbre_max):\n",
    "        arbre_max = somme_arbre\n",
    "        nom_maire = liste_maire[index_maire]\n",
    "    liste_nb_arbres_maires.append((liste_maire[index_maire], somme_arbre))\n",
    "#print(liste_nb_arbres_maires)\n",
    "print(\"Le maire ayant planté le plus d'arbres est\", nom_maire, \"avec\", arbre_max, \"arbres\")"
   ]
  },
  {
   "cell_type": "code",
   "execution_count": 33,
   "id": "ff08ad3c",
   "metadata": {},
   "outputs": [
    {
     "name": "stdout",
     "output_type": "stream",
     "text": [
      "30180 30180\n"
     ]
    }
   ],
   "source": [
    "########################### Verification nombre d'arbres\n",
    "total_arbres = 0\n",
    "for t in liste_nb_arbres_maires:\n",
    "    total_arbres += t[1]\n",
    "\n",
    "print(total_arbres, len(liste_annee_plantation) - nb_arbres_inc)"
   ]
  },
  {
   "cell_type": "code",
   "execution_count": 34,
   "id": "a2c6ac1e",
   "metadata": {},
   "outputs": [
    {
     "name": "stdout",
     "output_type": "stream",
     "text": [
      "31618\n",
      "('1960', 'Platanus')\n"
     ]
    }
   ],
   "source": [
    "######################### Stockage genre botanique avec annee \n",
    "# genre botanique: colonne 13\n",
    "liste_genre_bota = []\n",
    "for ind in range(1, len(liste_lignes)):\n",
    "    liste_genre_bota.append((liste_lignes[ind][19], liste_lignes[ind][13]))\n",
    "print(len(liste_genre_bota))    \n",
    "print(liste_genre_bota[5])\n",
    "#print(liste_genre_bota)"
   ]
  },
  {
   "cell_type": "code",
   "execution_count": 41,
   "id": "74812e22",
   "metadata": {},
   "outputs": [
    {
     "name": "stdout",
     "output_type": "stream",
     "text": [
      "933\n"
     ]
    }
   ],
   "source": [
    "########################## Nombre d'arbres dont l'info genre botanique est inconnue\n",
    "nb_arbre_bota_inc = 0\n",
    "for arbre in liste_genre_bota:\n",
    "    if(arbre[1] == \"\"):\n",
    "        nb_arbre_bota_inc+=1\n",
    "print(nb_arbre_bota_inc)"
   ]
  },
  {
   "cell_type": "code",
   "execution_count": 42,
   "id": "a1b87af3",
   "metadata": {},
   "outputs": [
    {
     "data": {
      "image/png": "[encoded data removed]",
      "text/plain": [
       "<Figure size 432x288 with 1 Axes>"
      ]
     },
     "metadata": {
      "needs_background": "light"
     },
     "output_type": "display_data"
    }
   ],
   "source": [
    "import matplotlib.pyplot as plt\n",
    "x = liste_annees\n",
    "y = liste_nb_arbres\n",
    "plt.plot(x,y)\n",
    "plt.xlabel(\"Année\")\n",
    "plt.ylabel(\"Nombre d'arbres plantés\")\n",
    "plt.title(\"Nombre d'arbres plantés en fonction de l'année de plantation\")\n",
    "plt.show()"
   ]
  },
  {
   "cell_type": "code",
   "execution_count": 43,
   "id": "3c25e880",
   "metadata": {},
   "outputs": [
    {
     "data": {
      "image/png": "[encoded data removed]",
      "text/plain": [
       "<Figure size 432x288 with 1 Axes>"
      ]
     },
     "metadata": {
      "needs_background": "light"
     },
     "output_type": "display_data"
    }
   ],
   "source": [
    "liste_nb_arbres_seul_maires = []\n",
    "for t in liste_nb_arbres_maires:\n",
    "    liste_nb_arbres_seul_maires.append(t[1])\n",
    "    \n",
    "x_maire = liste_maire\n",
    "y_maire = liste_nb_arbres_seul_maires\n",
    "plt.barh(x_maire,y_maire)\n",
    "plt.ylabel(\"Maire de Grenoble\")\n",
    "plt.xlabel(\"Nombre d'arbres plantés\")\n",
    "plt.title(\"Nombre d'arbres plantés par chaque maire de Grenoble\")\n",
    "plt.show()"
   ]
  },
  {
   "cell_type": "code",
   "execution_count": 48,
   "id": "52d83dfd",
   "metadata": {},
   "outputs": [
    {
     "name": "stdout",
     "output_type": "stream",
     "text": [
      "('2021', 'Thuja') ('1900', 'Prunus')\n"
     ]
    }
   ],
   "source": [
    "################# Triez les tuples (année, genre_botanique) en fonction de l'année de plantation (ordre décroissant)\n",
    "liste_genre_bota_desc_order = []\n",
    "for annee in range(2021,1899, -1):\n",
    "    for ind in range(len(liste_genre_bota)):\n",
    "        #print(int(liste_genre_bota[ind][0]), annee)\n",
    "        if(liste_genre_bota[ind][0] == str(annee)):\n",
    "            liste_genre_bota_desc_order.append(liste_genre_bota[ind])\n",
    "            \n",
    "print(liste_genre_bota_desc_order[0], liste_genre_bota_desc_order[-1])"
   ]
  },
  {
   "cell_type": "code",
   "execution_count": 56,
   "id": "2aa9c22c",
   "metadata": {},
   "outputs": [
    {
     "name": "stdout",
     "output_type": "stream",
     "text": [
      "('2021', 'Thuja') ('1900', 'Prunus') 30180\n"
     ]
    }
   ],
   "source": [
    "################# Triez les tuples (année, genre_botanique) en fonction de l'année de plantation (ordre décroissant) optimisé\n",
    "liste_genre_bota_desc_order = [tup for annee in range(2021,1899, -1) for tup in liste_genre_bota if tup[0] == str(annee)]\n",
    "            \n",
    "print(liste_genre_bota_desc_order[0], liste_genre_bota_desc_order[-1], len(liste_genre_bota_desc_order))"
   ]
  }
 ],
 "metadata": {
  "kernelspec": {
   "display_name": "Python 3 (ipykernel)",
   "language": "python",
   "name": "python3"
  },
  "language_info": {
   "codemirror_mode": {
    "name": "ipython",
    "version": 3
   },
   "file_extension": ".py",
   "mimetype": "text/x-python",
   "name": "python",
   "nbconvert_exporter": "python",
   "pygments_lexer": "ipython3",
   "version": "3.9.7"
  }
 },
 "nbformat": 4,
 "nbformat_minor": 5
}
